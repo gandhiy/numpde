{
 "cells": [
  {
   "cell_type": "code",
   "execution_count": null,
   "metadata": {},
   "outputs": [],
   "source": [
    "%matplotlib inline\n",
    "import numpy\n",
    "import matplotlib.pyplot as plt\n",
    "from matplotlib import animation, rc\n",
    "rc('animation', html='html5')\n",
    "plt.style.use('ggplot')\n",
    "%run fdtools.py\n",
    "hbar=1.05e-34\n",
    "m=9.10e-31\n",
    "a=2.0"
   ]
  },
  {
   "cell_type": "markdown",
   "metadata": {},
   "source": [
    "The schrodinger equation helps describes the motions of a particle. In totality the schrodinger equation is written as the following:\n",
    "\n",
    "$$ i\\hbar\\frac{\\partial}{\\partial t}\\Psi(\\vec{r},t) = -\\frac{\\hbar^2}{2m}\\nabla^2\\Psi(\\vec{r},t) + V(\\vec{r},t)\\Psi(\\vec{r},t)$$\n",
    "\n",
    "Where $V(\\vec{r}, t)$ is the potential function and we want to solve for $\\Psi(\\vec{r}, t).$ We will not be solving the full schrodinger equation, but instead we start the time indepedent schrodinger equation and move towards the time dependent schrodinger for a particle in 1D. We will also vary the potential function throughout the notebook. "
   ]
  },
  {
   "cell_type": "markdown",
   "metadata": {},
   "source": [
    "# One Dimensional Time Independent Schrodinger Equation (TISE)\n",
    "\n",
    "The most basic form of the schrodinger equations is \n",
    "\n",
    "$$ \\frac{-\\hbar^2}{2m}\\frac{d^2\\psi(x)}{dx^2} + V(x)\\psi(x) = E\\psi(x)$$\n",
    "\n",
    "when V(x) = 0 then\n",
    "\n",
    "$$ \\frac{-\\hbar^2}{2m}\\frac{d^2\\psi(x)}{dx^2} = E\\psi(x) $$\n",
    "\n",
    "The potential is defined as the following\n",
    "\n",
    "![caption](square-well.png) \n",
    "WLOG we can shift the potential well to 0 to a.\n",
    "\n",
    "\n",
    "## EigenProblem Approach\n",
    "\n",
    "Since V(x) = 0 for 0 to a \n",
    "\n",
    "$$ \\frac{-\\hbar}{2m}\\frac{\\partial^2}{\\partial x^2} \\psi(x) = E\\psi(x) $$\n",
    "\n",
    "$$ \\frac{\\partial^2}{\\partial x^2}\\psi(x) = \\frac{-2mE}{\\hbar^2}\\psi(x)$$\n",
    "\n",
    "Discretize $\\frac{\\partial^2}{\\partial x^2}$ to get \n",
    "\n",
    "$$ \\begin{bmatrix} \n",
    " &&  &&\\\\\n",
    " && D &&\\\\\n",
    " &&  &&\\\\\n",
    " \\end{bmatrix}\\psi(x) = \\lambda \\psi(x) $$\n",
    " \n",
    "This is our eigenfunction problem. After discretizing the differential operator, we can solve for the eigenvalues - energy values $\\frac{-2mE}{\\hbar^2}$ - and the eigenvectors - the wave functions. \n"
   ]
  },
  {
   "cell_type": "code",
   "execution_count": null,
   "metadata": {},
   "outputs": [],
   "source": [
    "def TISE_InfSqrWell(x,l,n):\n",
    "    #solution to the infinite well from 0 to l\n",
    "    return numpy.sqrt(2.0/l) * numpy.sin((n*numpy.pi*x)/l)\n",
    "x = numpy.linspace(0,a)\n",
    "plt.figure(figsize=(10,7))\n",
    "plt.title('Exact solutions to the Infinite Square Well')\n",
    "for i in range(1,4):\n",
    "    u = TISE_InfSqrWell(x, a, i)\n",
    "    plt.plot(x,u, label=\"$\\Psi_{}(x)$\".format(i))\n",
    "plt.legend(bbox_to_anchor=(1,1));"
   ]
  },
  {
   "cell_type": "code",
   "execution_count": null,
   "metadata": {
    "scrolled": false
   },
   "outputs": [],
   "source": [
    "def TISE_laplacian(a,N, S=[1, -2, 1], c=lambda h: 1/(h^2)):\n",
    "    x = numpy.linspace(0,a,N)\n",
    "    h = x[1]-x[0]\n",
    "    ddx = numpy.zeros((N,N))\n",
    "    S_position = numpy.arange(-len(S)//2 + 1, len(S)//2+1)\n",
    "    for i, Si in zip(S_position, S):\n",
    "        ddx += Si*numpy.diag(numpy.ones(N - abs(i)), i)\n",
    "    H = c(h)*ddx\n",
    "    E,psi = numpy.linalg.eigh(H) \n",
    "    return x,E,psi.T/numpy.sqrt(h)\n"
   ]
  },
  {
   "cell_type": "markdown",
   "metadata": {},
   "source": [
    "We can use any stencil, so we'll use the one found [here](https://en.wikipedia.org/wiki/Five-point_stencil) \n",
    "\n",
    "$$(12h^2)^{-1} \\begin{bmatrix} -1 && 16 && -30 && 16 && -1 \\end{bmatrix}$$."
   ]
  },
  {
   "cell_type": "code",
   "execution_count": null,
   "metadata": {},
   "outputs": [],
   "source": [
    "N = 256\n",
    "x, E, psi = TISE_laplacian(a,N, S=[-1, 16, -30, 16, -1], c=lambda h:(1/(12*h**2)))\n",
    "energy_values = (-hbar**2*E)/(2*m)"
   ]
  },
  {
   "cell_type": "code",
   "execution_count": null,
   "metadata": {},
   "outputs": [],
   "source": [
    "plt.figure(figsize=(10,7))\n",
    "plt.title(\"Approximate Solutions to the Infinite Square Well\")\n",
    "for i in range(1,4):\n",
    "    #going from the smaller eigen values to the larger values means incrementing backwards\n",
    "    plt.plot(x,psi[-i], label=\"$E_{}$={:.3}\".format(i,E[-i]))\n",
    "plt.legend(bbox_to_anchor=(1,1))\n",
    "plt.show()"
   ]
  },
  {
   "cell_type": "code",
   "execution_count": null,
   "metadata": {
    "scrolled": false
   },
   "outputs": [],
   "source": [
    "# Here are some examples of the solutions to the eigen function using the given stencil.\n",
    "plt.figure(figsize=(10,15))\n",
    "for i in range(1,5):\n",
    "    plt.subplot(410 + i)\n",
    "    plt.title(\"$E_{}$\".format(i))\n",
    "    u = TISE_InfSqrWell(x, a, i)\n",
    "    plt.plot(x,u, label='exact')\n",
    "    plt.plot(x,psi[-i], '-.', label='approx')\n",
    "plt.legend(bbox_to_anchor=(1.2, 4.6));"
   ]
  },
  {
   "cell_type": "markdown",
   "metadata": {},
   "source": [
    "Here are some of the eigenvalues"
   ]
  },
  {
   "cell_type": "code",
   "execution_count": null,
   "metadata": {},
   "outputs": [],
   "source": [
    "for i in range(1,5):\n",
    "    print('E_{} = {}'.format(i, E[-i]))"
   ]
  },
  {
   "cell_type": "markdown",
   "metadata": {},
   "source": [
    "Although these are not our energy values. Since we moved $\\frac{-\\hbar}{2m}$ to the right side of the equation, our eigenvalues are actually $\\frac{-2mE}{\\hbar}$. Here are the energy values:"
   ]
  },
  {
   "cell_type": "code",
   "execution_count": null,
   "metadata": {},
   "outputs": [],
   "source": [
    "for i in range(1,5):\n",
    "    print('E_{} = {}'.format(i,energy_values[-i]))"
   ]
  },
  {
   "cell_type": "markdown",
   "metadata": {},
   "source": [
    "While some of these functions match accordingly, others look \"flipped\". This is because of the phase angle in the complex plane. Here we are graphing the reals and choosing one of two choices for the phase. If the phase happens to match up to the one calculated by numpy, then $\\Psi(x)$ will agree with our discretization, otherwise the graphs look \"flipped\"."
   ]
  },
  {
   "cell_type": "markdown",
   "metadata": {},
   "source": [
    "Although, there is little physical meaning with $\\Psi(x)$. Instead, we can graph $\\Psi(x)^2$. This gives us our probability amplitude function. We'll plot a few examples of $\\Psi(x)^2$ and see that it agrees, at least visually, fairly well with our method."
   ]
  },
  {
   "cell_type": "code",
   "execution_count": null,
   "metadata": {},
   "outputs": [],
   "source": [
    "plt.figure(figsize=(10,15))\n",
    "for i in range(1,5):\n",
    "    plt.subplot(410 + i)\n",
    "    plt.title(\"$E_{}$\".format(i))\n",
    "    plt.ylabel(r'$\\Psi^2(x)$')\n",
    "    u = TISE_InfSqrWell(x, a, i)\n",
    "    plt.plot(x,u**2, label='exact')\n",
    "    plt.plot(x,psi[-i]**2, '-.', label='approx')\n",
    "plt.legend(bbox_to_anchor=(1.2, 4.6));"
   ]
  },
  {
   "cell_type": "code",
   "execution_count": null,
   "metadata": {},
   "outputs": [],
   "source": [
    "hs = 2**numpy.arange(3,10)\n",
    "error = []\n",
    "n = 3\n",
    "plt.figure(figsize=(7,5))\n",
    "plt.title('Error on $\\Psi(x)^2$')\n",
    "for N in hs:\n",
    "    x, E, psi = TISE_laplacian(a, N, S=[-1, 16, -30, 16, -1], c=lambda h:(1/(12*h**2)))\n",
    "    u = TISE_InfSqrWell(x, a, n)\n",
    "    error.append(numpy.linalg.norm(u**2 - psi[-n]**2, ord=numpy.inf))\n",
    "plt.loglog(hs, error, '.')\n",
    "plt.loglog(hs, 4*(1/hs), label='$4h$')\n",
    "plt.loglog(hs, 4*(1/hs)**2, label='$4h^2$')\n",
    "plt.legend(bbox_to_anchor=(1,1));"
   ]
  },
  {
   "cell_type": "markdown",
   "metadata": {},
   "source": [
    "# TISE - Runge-Kutta Methods"
   ]
  },
  {
   "cell_type": "markdown",
   "metadata": {},
   "source": [
    "Let's try a different method of solving ODE's. First, consider our TISE in a infinite potential \n",
    "\n",
    "$$ \\frac{-\\hbar}{2m}\\frac{\\partial^2}{\\partial x^2}\\psi(x) = E\\psi(x) $$\n",
    "\n",
    "$$ \\psi(0) = \\psi(a) = 0 $$ \n",
    "\n",
    "We can try and use a Runge-Kutta Method to solve this. First we need to perform substiutions to create a system of first order ODE's instead. \n",
    "\n",
    "$$ \\text{ Let } \\phi = \\psi_x $$\n",
    "\n",
    "Now we can write the above equation as \n",
    "\n",
    "$$ \\begin{bmatrix} \\psi \\\\ \\phi \\end{bmatrix}_x = \\begin{bmatrix} \\phi \\\\ \\frac{-2mE}{\\hbar^2}\\psi \\end{bmatrix} $$\n",
    "\n",
    "$$ \\psi(0) = 0 \\quad \\text{ and } \\quad \\phi(0) = \\frac{n\\pi}{a} \\sqrt{\\frac{2}{a}} $$\n",
    "\n",
    "Although, it should be noted that since we know the exact solution before hand, we can calculate the derivative function and plug in the exact starting slope $\\phi(0)$."
   ]
  },
  {
   "cell_type": "code",
   "execution_count": null,
   "metadata": {},
   "outputs": [],
   "source": [
    "class TISE:\n",
    "    def __init__(self,E):\n",
    "        self.E = E\n",
    "    def f(self,t,u):\n",
    "        return numpy.array([u[1], u[0]*(-2*m*self.E)/(hbar**2)])\n",
    "\n",
    "def E(n, a):\n",
    "    return (n*n*numpy.pi*numpy.pi*hbar*hbar)/(2*m*a*a)\n",
    "\n",
    "def TISE_rkexplicit(f, u0, butcher=None, tfinal=1, h=.1):\n",
    "    if butcher is None:\n",
    "        A, b = rk_butcher_4()\n",
    "    else:\n",
    "        A, b = butcher\n",
    "    c = numpy.sum(A, axis=1)\n",
    "    s = len(c)\n",
    "    u = u0.copy()\n",
    "    t = 0\n",
    "    hist = [(t,u0)]\n",
    "    while t < tfinal:\n",
    "        if tfinal - t < 1.01*h:\n",
    "            h = tfinal - t\n",
    "            tnext = tfinal\n",
    "        else:\n",
    "            tnext = t + h\n",
    "        h = min(h, tfinal - t)\n",
    "        fY = numpy.zeros((len(u0), s))\n",
    "        for i in range(s):\n",
    "            Yi = u.copy()\n",
    "            for j in range(i):\n",
    "                Yi += h * A[i,j] * fY[:,j]\n",
    "            fY[:,i] = f(t + h*c[i], Yi)\n",
    "        u += h * fY.dot(b)\n",
    "        t = tnext\n",
    "        hist.append((t, u.copy()))\n",
    "    return hist\n",
    "\n",
    "N = 256\n",
    "plt.figure(figsize=(10,7))\n",
    "plt.title(\"RK4 Approximation of $\\psi(x)$\")\n",
    "for i in range(1,4):\n",
    "    Ei = E(i,a)\n",
    "    h = (a/N)\n",
    "    waves = TISE(Ei)\n",
    "    u0 = numpy.array([0, ((i*numpy.pi)/a)*numpy.sqrt(2.0/a)])\n",
    "    hist = TISE_rkexplicit(waves.f, u0, tfinal=a, h = h)\n",
    "    x = numpy.array([x for x,u in hist])\n",
    "    psi = numpy.array([u[0] for x,u in hist])\n",
    "    u = TISE_InfSqrWell(x, a, i)\n",
    "    plt.plot(x, u, label=\"$E_{}$ exact\".format(i))\n",
    "    plt.plot(x, psi, '-.',label=\"$E_{}$ approx\".format(i))\n",
    "plt.legend(bbox_to_anchor=(1,1));"
   ]
  },
  {
   "cell_type": "code",
   "execution_count": null,
   "metadata": {},
   "outputs": [],
   "source": []
  },
  {
   "cell_type": "code",
   "execution_count": null,
   "metadata": {},
   "outputs": [],
   "source": [
    "for n in [1,3,5, 40]:\n",
    "    err = []\n",
    "    for N in 2**numpy.arange(3,10):\n",
    "        Ei = E(n, a)\n",
    "        waves = TISE(Ei)\n",
    "        h = (a/N)\n",
    "        u0 = numpy.array([0,(i*numpy.pi*numpy.sqrt(2.0/a))/a])\n",
    "        hist = TISE_rkexplicit(waves.f, u0, tfinal=a, h=h)\n",
    "        x = numpy.array([x for x,u in hist])\n",
    "        psi = numpy.array([u[0] for x,u in hist])\n",
    "        psi_exact = TISE_InfSqrWell(x, a, n)\n",
    "        err.append(numpy.linalg.norm(psi - psi_exact))\n",
    "    plt.figure(figsize=(10,7))\n",
    "    plt.title('Error in $\\psi_{}$'.format(n))\n",
    "    plt.loglog(hs, error, '.')\n",
    "    plt.loglog(hs, 4*(1/hs), label='$4h$')\n",
    "    plt.loglog(hs, 4*(1/hs)**2, label='$4h^2$')\n",
    "    plt.legend(loc='upper right')"
   ]
  },
  {
   "cell_type": "markdown",
   "metadata": {},
   "source": [
    "This is a method that is at least first-order accurate for any function $\\psi_n(x)$. Let's add back a potential function now."
   ]
  },
  {
   "cell_type": "markdown",
   "metadata": {},
   "source": [
    "## TISE with a Finite Potential Well\n",
    "\n",
    "$$$$\n",
    "\n",
    "We will now consider what happens when V(x) $\\neq$ 0. First, let's rewrite the schrodinger equation: \n",
    "\n",
    "$$\\frac{-\\hbar^2}{2m}\\frac{\\partial^2\\psi(x)}{\\partial x^2} + V(x)\\psi(x) = E\\Psi(x) $$\n",
    "\n",
    "This is similar to the infinite potential well. We can solve this problem as another eigenproblem. If discretize $\\frac{\\partial^2}{\\partial x^2}$ and also discretize the potential function, then we will have $H\\psi(x) = E\\psi(x)$"
   ]
  },
  {
   "cell_type": "code",
   "execution_count": null,
   "metadata": {},
   "outputs": [],
   "source": [
    "def TISE_laplacian_finite_well(a,N,V, S=[1.0, -2.0, 1.0], c=lambda h: 1/(h**2.0)):\n",
    "    x = numpy.linspace(-a,a,N)\n",
    "    h = x[1]-x[0]\n",
    "    ddx = numpy.zeros((N,N))\n",
    "    S_position = numpy.arange(-len(S)//2 + 1, len(S)//2+1)\n",
    "    for i, Si in zip(S_position, S):\n",
    "        ddx += Si*numpy.diag(numpy.ones(N - abs(i)), i)\n",
    "    #multipled the constant through ddx this time.\n",
    "    H = (-hbar**2.0/(2.0*m))*c(h)*ddx + numpy.diag(V)\n",
    "    E,psi = numpy.linalg.eigh(H) \n",
    "    return x,E,psi.T/numpy.sqrt(h)\n",
    "\n",
    "def V_step(V0, x, xrange = None):\n",
    "    V = numpy.zeros(len(x))\n",
    "    for i, xi in enumerate(x):\n",
    "        if(xrange is None):\n",
    "            if(xi < x[0]/2 or xi > x[-1]/2):\n",
    "                V[i] = V0\n",
    "        else:\n",
    "            if(xi < xrange[0] or xi>xrange[1]):\n",
    "                V[i] = V0\n",
    "    return V"
   ]
  },
  {
   "cell_type": "code",
   "execution_count": null,
   "metadata": {},
   "outputs": [],
   "source": [
    "#if V0 is too high compared to the energy values, then we won't see the affect\n",
    "V0 = 1e-36\n",
    "N = 256\n",
    "x = numpy.linspace(-a,a,N)\n",
    "V = V_step(V0, x)\n",
    "plt.title('Potential Function')\n",
    "plt.plot(x, V)\n",
    "x, E, psi = TISE_laplacian_finite_well(a, N, V)\n",
    "max_E = max(E)"
   ]
  },
  {
   "cell_type": "code",
   "execution_count": null,
   "metadata": {},
   "outputs": [],
   "source": [
    "plt.figure(figsize=(10,7))\n",
    "plt.axvline(x=-a/2,label='Left Side of Well', linestyle='-.')\n",
    "plt.axvline(x=a/2,label='Right Side of Well', linestyle='-.')\n",
    "plt.plot(x, psi[0], label='$E_{}$ = {:.3}'.format(0, E[0]))\n",
    "plt.plot(x, psi[1], label='$E_{}$ = {:.3}'.format(1, E[1]))\n",
    "plt.plot(x, psi[2], label='$E_{}$ = {:.3}'.format(2, E[2]))\n",
    "plt.legend(bbox_to_anchor=(1,1))"
   ]
  },
  {
   "cell_type": "markdown",
   "metadata": {},
   "source": [
    "Let's look at what happens when we vary the value of V. We'll graph $\\psi^2(x)$ because we still have the phase problem from earlier. But $\\psi^2(x)$ is much more physical. $\\psi^2(x)$ represents the probability of finding a particle within a specific range. "
   ]
  },
  {
   "cell_type": "code",
   "execution_count": null,
   "metadata": {},
   "outputs": [],
   "source": [
    "for n in range(0, 4):\n",
    "    plt.figure(figsize=(10,7))\n",
    "    plt.title('$\\psi_{}(x)$'.format(n+1))\n",
    "    l = 5\n",
    "    for i in range(0, l):\n",
    "        factor = 10**(i)\n",
    "        V0 = (1e-40)*factor\n",
    "        if(i == l-1):\n",
    "            V0 = 1.0\n",
    "        x = numpy.linspace(-a,a,N)\n",
    "        V = V_step(V0, x)\n",
    "        x, E, psi = TISE_laplacian_finite_well(a, N, V)\n",
    "        plt.plot(x, psi[n]**2, label='$V_0$ = {:.3}'.format(V0))\n",
    "        plt.axvline(x=-a/2, linestyle='-.', color='black')\n",
    "        plt.axvline(x=a/2, linestyle='-.', color='black')\n",
    "    plt.legend(bbox_to_anchor=(1,1))"
   ]
  },
  {
   "cell_type": "code",
   "execution_count": null,
   "metadata": {},
   "outputs": [],
   "source": [
    "print(\"The maximum energy level is {:.3} which is much less than 1.0\".format(max_E)) "
   ]
  },
  {
   "cell_type": "markdown",
   "metadata": {},
   "source": [
    "As the potential function increases the probability that a particle can be found outside the well decreases. As the potential function becomes much greater than E, then the  equation looks like the infinite potential well. "
   ]
  },
  {
   "cell_type": "markdown",
   "metadata": {},
   "source": [
    "# 1D Time Dependent Schrodinger Equation (TDSE)\n",
    "\n",
    "The full schrodinger equation has components that are dependent on time. The full Schrodinger equation in 1D is \n",
    "\n",
    "$$ i\\hbar\\frac{\\partial \\Psi(x,t)}{\\partial t} = -\\frac{\\hbar^2}{2m}\\frac{\\partial^2 \\Psi(x,t)}{\\partial x^2} + V(x)\\Psi(x,t) $$\n",
    "\n",
    "Where are boundary conditions are now \n",
    "\n",
    "$$ \\psi(a,t) = \\psi(b,t) = 0 \\quad \\psi(x,0) = g(x) $$\n",
    "\n",
    "and $a,b$ are the bounds. Also, we need an inital wave function now."
   ]
  },
  {
   "cell_type": "markdown",
   "metadata": {},
   "source": [
    "## Crank-Nicolson Method\n",
    "\n",
    "We'll try the [Crank-Nicolson Method](https://en.wikipedia.org/wiki/Crank%E2%80%93Nicolson_method). \n",
    "\n",
    "First, we'll rearrange the equation a bit:\n",
    "$$ \\frac{\\partial \\Psi(x,t)}{\\partial t} = \\frac{i\\hbar}{2m}\\frac{\\partial^2 \\Psi(x,t)}{\\partial x^2} - \\frac{iV(x)}{\\hbar}\\Psi(x,t) $$\n",
    "\n",
    "We will use $\\Psi^k_j = \\Psi(a + j*h, \\tau*k)$ be how we index the solution to the equation. Here a is the left hand boundary, j is the jth step in x, h is the grid size of x, k is the kth step in time, and $\\tau$ is the grid size of t . "
   ]
  },
  {
   "cell_type": "markdown",
   "metadata": {},
   "source": [
    "This method uses a finite difference technique to replace the above equation with stencils. Using the new indexing of the $\\Psi$, let's rewrite both sides of the equation as a finite difference method. First the right hand side of the equation becomes:\n",
    "\n",
    "$$\\frac{i\\hbar}{2m}\\frac{\\partial^2 \\Psi(x,t)}{\\partial x^2} - \\frac{iV(x)}{\\hbar}\\Psi(x,t) = \\frac{i\\hbar}{2m} \\frac{1}{h^2} \\big (\\Psi^k_{j-1} - 2\\Psi^k_{j} + \\Psi^k_{j+1} \\big ) - \\frac{iV(a + jh)}{\\hbar} \\Psi^k_i $$\n",
    "\n",
    "Create an operator $\\hat{H}$ such that:\n",
    "\n",
    "$$ \\hat{H} = \\alpha\\begin{bmatrix} &&  &&\\\\ && D^2 &&\\\\ &&  &&\\\\ \\end{bmatrix} + \\beta\\begin{bmatrix} &&  &&\\\\ && V^k &&\\\\ &&  &&\\\\ \\end{bmatrix}$$\n",
    "\n",
    "where $\\alpha$ and $\\beta$ are the constants of the equation and this changes the equation into \n",
    "\n",
    "$$\\frac{i\\hbar}{2m}\\frac{\\partial^2 \\Psi(x,t)}{\\partial x^2} - \\frac{iV(x)}{\\hbar}\\Psi(x,t) = i\\hat{H}$$\n",
    "\n",
    "Next, the left hand side, a bit simpler, becomes:\n",
    "\n",
    "$$\\frac{\\partial \\Psi(x,t)}{\\partial t} =  \\frac{\\Psi^{k+1}_j - \\Psi^{k}_j}{\\tau}$$\n",
    "\n",
    "with a forward difference method. If we take a backward difference, then the left hand side becomes:\n",
    "\n",
    "$$\\frac{\\partial \\Psi(x,t)}{\\partial t} =   \\frac{\\Psi^{k}_j - \\Psi^{k+1}_j}{\\tau}$$\n",
    "\n",
    "Equating both sides, using the operator $\\hat{H}$, we get:\n",
    "\n",
    "$$(1 + i\\hat{H}\\tau)\\Psi^k = \\Psi^{k+1} \\quad \\text{ and } \\quad (1 - i\\hat{H}\\tau)\\Psi^{k+1} = \\Psi^k$$\n",
    "\n",
    "Crank-Nicholson averages these equations such that we get:\n",
    "\n",
    "$$\\Big(1 + \\frac{i\\hat{H}\\tau}{2} \\Big)\\Psi^{k+1}_j = \\Big(1 - \\frac{i\\hat{H}\\tau}{2}\\Big)\\Psi^k_j$$\n",
    "\n",
    "We can create two matrices $U_1$ and $U_2$ to solve for the $\\Psi$."
   ]
  },
  {
   "cell_type": "code",
   "execution_count": null,
   "metadata": {},
   "outputs": [],
   "source": [
    "def psi0(x, a=1.0, n=1):\n",
    "    return numpy.sqrt(2.0/a)*numpy.sin((numpy.pi*n*x)/a)"
   ]
  },
  {
   "cell_type": "code",
   "execution_count": null,
   "metadata": {},
   "outputs": [],
   "source": [
    "from scipy import sparse\n",
    "from scipy.sparse import linalg\n",
    "N = 256\n",
    "Nt = N//2\n",
    "x = numpy.linspace(0,a,N)\n",
    "dx = x[1] - x[0]\n",
    "t = numpy.linspace(0,5,Nt)\n",
    "dt = t[1] - t[0]\n",
    "#vectors to use when creating diagonals\n",
    "o = numpy.ones((N), complex)\n",
    "alp = (1j)*dt/(2*dx**2)*o\n",
    "V = V_step(10, x)\n",
    "\n",
    "\n",
    "# SET UP U1 #\n",
    "eta = 1 + ((1j*dt)/2.0)*((2.0)/(dx**2) + V)\n",
    "diags = numpy.array([-1,0,+1]) # positions of the vectors in the matrix\n",
    "vecs1 = numpy.array([-alp,eta,-alp])\n",
    "U1 = sparse.spdiags(vecs1,diags,N,N) # create tridiagonal sparse matrix\n",
    "U1 = U1.tocsc() # convert to different sparse format needed for further calculation\n",
    "\n",
    "# SET UP U2 #\n",
    "gam = 1 - ((1j*dt)/2.0)*((2.0)/(dx**2) + V)\n",
    "vecs2 = numpy.array([alp, gam, alp])\n",
    "U2 = sparse.spdiags(vecs2, diags, N, N)\n",
    "U2 = U2.tocsc()"
   ]
  },
  {
   "cell_type": "code",
   "execution_count": null,
   "metadata": {},
   "outputs": [],
   "source": [
    "PSI = numpy.zeros((N,Nt),complex) # J times N array to store all solutions\n",
    "\n",
    "PSI[:,0] = [psi0(xi, a) for xi in x] # psi(x,0) \n",
    "\n",
    "LU = linalg.splu(U1) # compute LU-decomposition of U1\n",
    "\n",
    "for n in range(0,Nt - 1): # loop over time-steps\n",
    "    b = U2.dot(PSI[:,n]) # right hand side of eq. (3.9)\n",
    "    PSI[:,n + 1] = LU.solve(b) # solve system of equations for each time step"
   ]
  },
  {
   "cell_type": "code",
   "execution_count": null,
   "metadata": {
    "scrolled": false
   },
   "outputs": [],
   "source": [
    "for step in range(0,4):\n",
    "    plt.plot(x, PSI[:,3*step], label='step {}'.format(3*step))\n",
    "plt.legend(bbox_to_anchor=(1,1))"
   ]
  },
  {
   "cell_type": "markdown",
   "metadata": {},
   "source": [
    "Let's make a function out of the above method that depends on the initial conditions of the wave. This will let us explore different variations and what happens over time with the wave equation."
   ]
  },
  {
   "cell_type": "code",
   "execution_count": null,
   "metadata": {},
   "outputs": [],
   "source": [
    "#create a function dependent on initial conditions\n",
    "def TDSE_CN(h, tau, psi0, V, a=1.0,tfinal=5.0,en=1, V0 = 1):\n",
    "    '''\n",
    "    Crank-Nicholson Method for solving the Time Dependent Schrodinger Equation\n",
    "    \n",
    "    Returns the wave function Psi(x,t)\n",
    "    h: step in spacial axis\n",
    "    tau: step in time axis\n",
    "    psi0: initial wave function\n",
    "    V: potential function\n",
    "    \n",
    "    a: distance of the spacial grid\n",
    "        default is 1.0\n",
    "    tfinal: distance of the time grid\n",
    "        default is 5.0\n",
    "    en: energy level which defines psi(x,0)\n",
    "    '''\n",
    "    N = int(1/h)\n",
    "    Nt = int(1/tau)\n",
    "    x = numpy.linspace(0,a,N)\n",
    "    t = numpy.linspace(0,tfinal,Nt)\n",
    "    o = numpy.ones((N), complex)\n",
    "    alp = (1j)*tau/(2*h**2)*o\n",
    "    Vx = V(V0, x)\n",
    "    \n",
    "    # SET UP U1 #\n",
    "    eta = 1 + ((1j*tau)/2.0)*((2.0)/(h**2) + Vx)\n",
    "    diags = numpy.array([-1,0,+1]) # positions of the vectors in the matrix\n",
    "    vecs1 = numpy.array([-alp,eta,-alp])\n",
    "    U1 = sparse.spdiags(vecs1,diags,N,N) # create tridiagonal sparse matrix\n",
    "    U1 = U1.tocsc()\n",
    "    \n",
    "    # SET UP U2 #\n",
    "    gam = 1 - ((1j*tau)/2.0)*((2.0)/(h**2) + Vx)\n",
    "    vecs2 = numpy.array([alp, gam, alp])\n",
    "    U2 = sparse.spdiags(vecs2, diags, N, N)\n",
    "    U2 = U2.tocsc()\n",
    "    \n",
    "    # CALCULATE PSI(x,t) #\n",
    "    PSI = numpy.zeros((N,Nt),complex) # matrix to store solutions\n",
    "    PSI[:,0] = [psi0(xi, a, en) for xi in x] # psi(x,0) \n",
    "    LU = linalg.splu(U1) # compute LU-decomposition of U1\n",
    "    for n in range(0,Nt - 1): # loop over time-steps\n",
    "        b = U2.dot(PSI[:,n]) # right hand side of eq. (3.9)\n",
    "        PSI[:,n + 1] = LU.solve(b) # solve system of equations for each time step\n",
    "    return x, t, PSI"
   ]
  },
  {
   "cell_type": "code",
   "execution_count": null,
   "metadata": {},
   "outputs": [],
   "source": [
    "en = 2\n",
    "x, t, psi = TDSE_CN(.01, .01, psi0, V_step, a=1.0,en=en)\n",
    "plt.figure(figsize=(10,7))\n",
    "plt.title('Wave Propogation of $Psi_{}(x,t)$'.format(en))\n",
    "for step in range(0,10):\n",
    "    plt.plot(x, psi[:,step], label='step {}'.format(step))\n",
    "plt.legend(bbox_to_anchor=(1,1));"
   ]
  },
  {
   "cell_type": "markdown",
   "metadata": {},
   "source": [
    "This plot shows the different wave functions at different time steps, but it would probably help to actually see what happens to the wave function over time. So, let's animate the function!"
   ]
  },
  {
   "cell_type": "code",
   "execution_count": null,
   "metadata": {},
   "outputs": [],
   "source": [
    "fig, ax = plt.subplots()\n",
    "ax.set_xlim((0,a))\n",
    "ax.set_ylim((-2,2))\n",
    "\n",
    "line = ax.plot([], [], lw=2)\n",
    "def init():\n",
    "    line.set_data([],[])\n",
    "    return line\n",
    "def animate(i):\n",
    "    line.set_data(x, psi[:,i])\n",
    "    return line\n",
    "\n",
    "anim = animation.FuncAnimation(fig, animate, init_func=init, frames=100, interval=75, blit=True)"
   ]
  }
 ],
 "metadata": {
  "kernelspec": {
   "display_name": "Python 3",
   "language": "python",
   "name": "python3"
  },
  "language_info": {
   "codemirror_mode": {
    "name": "ipython",
    "version": 3
   },
   "file_extension": ".py",
   "mimetype": "text/x-python",
   "name": "python",
   "nbconvert_exporter": "python",
   "pygments_lexer": "ipython3",
   "version": "3.6.4"
  }
 },
 "nbformat": 4,
 "nbformat_minor": 2
}
