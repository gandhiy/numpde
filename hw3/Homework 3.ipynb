{
 "cells": [
  {
   "cell_type": "markdown",
   "metadata": {},
   "source": [
    "## Homework 3: Due 2018-10-24\n",
    "\n",
    "Write a solver for the regularized $p$-Laplacian,\n",
    "$$ -\\nabla\\cdot\\big( \\kappa(\\nabla u) \\nabla u \\big) = 0 $$\n",
    "where\n",
    "$$ \\kappa(\\nabla u) = \\big(\\frac 1 2 \\epsilon^2 + \\frac 1 2 \\nabla u \\cdot \\nabla u \\big)^{\\frac{p-2}{2}}, $$\n",
    "$ \\epsilon > 0$, and $1 < p < \\infty$.  The case $p=2$ is the conventional Laplacian. This problem gets more strongly nonlinear when $p$ is far from 2 and when $\\epsilon$ approaches zero. The $p \\to 1$ limit is related to plasticity and has applications in non-Newtonion flows and structural mechanics.\n",
    "\n",
    "1. Implement a \"Picard\" solver, which is like a Newton solver except that the Jacobian is replaced by the linear system\n",
    "$$ J_{\\text{Picard}}(u) \\delta u \\sim -\\nabla\\cdot\\big( \\kappa(\\nabla u) \\nabla \\delta u \\big) . $$\n",
    "This is much easier to implement than the full Newton linearization.  How fast does this method converge for values of $p < 2$ and $p > 2$?\n",
    "\n",
    "\n"
   ]
  },
  {
   "cell_type": "code",
   "execution_count": 1,
   "metadata": {},
   "outputs": [],
   "source": [
    "import numpy\n",
    "import matplotlib.pyplot as pyplot\n",
    "import scipy.sparse as sp\n",
    "import scipy.sparse.linalg\n",
    "pyplot.style.use('ggplot')"
   ]
  },
  {
   "cell_type": "code",
   "execution_count": 2,
   "metadata": {
    "scrolled": false
   },
   "outputs": [
    {
     "data": {
      "image/png": "[encoded data removed]",
      "text/plain": [
       "<matplotlib.figure.Figure at 0x10ee6e198>"
      ]
     },
     "metadata": {},
     "output_type": "display_data"
    }
   ],
   "source": [
    "def hgrid(h):\n",
    "    m = int(1/h + 1)  # Number of elements in terms of nominal grid spacing h\n",
    "    h = 1 / (m-1)     # Actual grid spacing\n",
    "    c = numpy.linspace(0, 1, m)\n",
    "    y, x = numpy.meshgrid(c, c)\n",
    "    return x, y\n",
    "\n",
    "def picard2d_div(h, x, y, u, forcing, g0,p,epsilon, dirichlet=((),()), J_solve=True):\n",
    "    m = x.shape[0]\n",
    "    u0 = g0(x, y).flatten()\n",
    "    F = -forcing(x, y).flatten()\n",
    "    ai = []\n",
    "    aj = []\n",
    "    av = []\n",
    "    def idx(i, j):\n",
    "        i = (m-1) - abs(m-1 - abs(i))\n",
    "        j = (m-1) - abs(m-1 - abs(j))\n",
    "        return i*m + j\n",
    "    mask = numpy.ones_like(x, dtype=bool)\n",
    "    mask[dirichlet[0],:] = False\n",
    "    mask[:,dirichlet[1]] = False\n",
    "    mask = mask.flatten()\n",
    "    u = u.flatten()\n",
    "    F[mask == False] = u[mask == False] - u0[mask == False]\n",
    "    #u[mask == False] = u0[mask == False]\n",
    "    for i in range(m):\n",
    "        for j in range(m):\n",
    "            row = idx(i, j)\n",
    "            stencili = numpy.array([idx(*pair) for pair in [(i-1,j-1), (i-1, j), (i-1,j+1), \n",
    "                                                            (i, j-1), (i, j), (i, j+1),\n",
    "                                                            (i+1,j-1), (i+1, j), (i+1, j+1)]])\n",
    "            #calculate the points necessary for gradients in both directions for kappa\n",
    "            spoints = numpy.array(([[0, 0, 0, -1, 1, 0, 0, 0, 0],\n",
    "                                    [-1/4, -1/4, 0, 0, 0, 0, 1/4, 1/4, 0],\n",
    "                                    [0, 0, 0, -1/4, 0, 1/4, -1/4, 0, 1/4],\n",
    "                                    [0, 0, 0, 0, -1, 0, 0, 1, 0],\n",
    "                                    [0, 0, 0, 0, -1, 1, 0, 0, 0],\n",
    "                                    [0, -1/4, -1/4, 0, 0, 0, 0, 1/4, 1/4], \n",
    "                                    [-1/4, 0, 1/4, -1/4, 0, 1/4, 0, 0, 0],\n",
    "                                    [0, -1, 0, 0, 1, 0, 0, 0, 0]]))/(h)\n",
    "            grad = numpy.array([[0, -1, 0, 0, 1, 0, 0, 0, 0],\n",
    "                                [0, 0, 0, -1, 1, 0, 0, 0, 0],\n",
    "                                [0, 0, 0, 0, -1, 1, 0, 0, 0],\n",
    "                                [0, 0, 0, 0, -1, 0, 0, 1, 0]]) / h\n",
    "            # Stencil to compute divergence at cell centers from fluxes at four staggered points\n",
    "            div = numpy.array([-1, -1, 1, 1]) / h\n",
    "            ustencil = u[stencili]\n",
    "            gradient = spoints @ ustencil\n",
    "            kappa = [((epsilon**2)/2 + gradient[2*i]**2 + gradient[2*i + 1]**2)**((p-2)/2) for i in numpy.arange(0,4)]\n",
    "            if mask[row] == 0: # Dirichlet boundary\n",
    "                ai.append(row)\n",
    "                aj.append(row)\n",
    "                av.append(1)\n",
    "            else:\n",
    "                F[row] -= div @ (kappa * (grad @ ustencil))\n",
    "                if(J_solve):\n",
    "                    Jstencil = -div @ ([kappa[i] * grad[i] for i in range(0, len(kappa))])\n",
    "                    smask = mask[stencili]\n",
    "                    ai += [row]*sum(smask)\n",
    "                    aj += stencili[smask].tolist()\n",
    "                    av += Jstencil[smask].tolist()\n",
    "    if(J_solve):\n",
    "        J = sp.csc_matrix((av, (ai, aj)), shape=(m*m,m*m))\n",
    "        return F, J\n",
    "    else:\n",
    "        return F\n",
    "\n",
    "h = .1\n",
    "x, y = hgrid(h)\n",
    "u = 0*x\n",
    "F, J = picard2d_div(h, x, y, u, lambda x,y: 0*x+1,\n",
    "                       lambda x,y: 0*x, 3, .1, dirichlet=((0,-1),(0,-1)))\n",
    "deltau = sp.linalg.spsolve(J, -F).reshape(x.shape)\n",
    "pyplot.contourf(x, y, deltau)\n",
    "pyplot.colorbar();"
   ]
  },
  {
   "cell_type": "code",
   "execution_count": 17,
   "metadata": {},
   "outputs": [
    {
     "name": "stdout",
     "output_type": "stream",
     "text": [
      " 0: anorm 1.000000e+00\n",
      " 1: anorm 2.358095e-01\n",
      " 2: anorm 3.750209e-02\n",
      " 3: anorm 4.919122e-03\n",
      " 4: anorm 5.792425e-04\n",
      " 5: anorm 6.502957e-05\n",
      " 6: anorm 7.002816e-06\n",
      " 7: anorm 7.325395e-07\n",
      " 8: anorm 7.504587e-08\n",
      " 9: anorm 7.571902e-09\n",
      "9\n"
     ]
    },
    {
     "data": {
      "image/png": "[encoded data removed]",
      "text/plain": [
       "<matplotlib.figure.Figure at 0x151144ca58>"
      ]
     },
     "metadata": {},
     "output_type": "display_data"
    }
   ],
   "source": [
    "def solve_nonlinear(h, g0, dirichlet, p, eps, atol=1e-8, verbose=False):\n",
    "    x, y = hgrid(h)\n",
    "    u = 0*x\n",
    "    for i in range(500):\n",
    "        F, J = picard2d_div(h, x, y, u, lambda x,y: 0*x+1,\n",
    "                               g0, p, eps, dirichlet=dirichlet)\n",
    "        anorm = numpy.linalg.norm(F, numpy.inf)\n",
    "        if verbose:\n",
    "            print('{:2d}: anorm {:8e}'.format(i,anorm))\n",
    "        if anorm < atol:\n",
    "            break\n",
    "        #solve for delta u\n",
    "        deltau = sp.linalg.spsolve(J, -F)\n",
    "        #update u based on delta u\n",
    "        u += deltau.reshape(x.shape)\n",
    "    return x, y, u, i\n",
    "\n",
    "x, y, u, i = solve_nonlinear(.1, lambda x,y: 0*x, ((0,-1),(0,-1)), 3, 1, verbose=True)\n",
    "print(i)\n",
    "pyplot.contourf(x, y, u)\n",
    "pyplot.colorbar();"
   ]
  },
  {
   "cell_type": "markdown",
   "metadata": {},
   "source": [
    "# Convergence study of p > 2 and p < 2"
   ]
  },
  {
   "cell_type": "code",
   "execution_count": null,
   "metadata": {
    "scrolled": false
   },
   "outputs": [],
   "source": [
    "p_vals_under2 = numpy.linspace(1.00001, 2-.00001)\n",
    "p_vals_above2 = numpy.linspace(2, 6.9)\n",
    "p_vals = numpy.concatenate((p_vals_under2, p_vals_above2))\n",
    "iterations = []\n",
    "for p in p_vals_under2:\n",
    "    x,y,u,i = solve_nonlinear(.1, lambda x,y: 0*x, ((0,-1),(0,-1)), p, 1, verbose=False)\n",
    "    iterations.append(i)\n",
    "pyplot.figure(figsize=(12,9))\n",
    "pyplot.title(r'Convergence Study of $p<2$')\n",
    "pyplot.xlabel('p value')\n",
    "pyplot.ylabel('Number of Iterations ')\n",
    "pyplot.plot(p_vals_under2, iterations)\n",
    "pyplot.show();\n",
    "iterations = []\n",
    "for p in p_vals_above2:\n",
    "    x,y,u,i = solve_nonlinear(.1, lambda x,y: 0*x, ((0,-1),(0,-1)), p, 1, verbose=False)\n",
    "    iterations.append(i)\n",
    "pyplot.figure(figsize=(12,9))\n",
    "pyplot.title(r'Convergence Study of $p>2$')\n",
    "pyplot.xlabel('p value')\n",
    "pyplot.ylabel('Number of Iterations ')\n",
    "pyplot.plot(p_vals_above2, iterations)\n",
    "pyplot.show();"
   ]
  },
  {
   "cell_type": "markdown",
   "metadata": {},
   "source": [
    "# Convergence study of $\\epsilon$ "
   ]
  },
  {
   "cell_type": "code",
   "execution_count": null,
   "metadata": {},
   "outputs": [],
   "source": [
    "eps = numpy.linspace(1, 5)\n",
    "iterations = []\n",
    "for e in eps:\n",
    "    x,y,u,i = solve_nonlinear(.1, lambda x,y: 0*x, ((0,-1),(0,-1)), 3, e, verbose=False)\n",
    "    iterations.append(i)\n",
    "pyplot.figure(figsize=(12,9))\n",
    "pyplot.title(r'Convergence Study of $\\epsilon$')\n",
    "pyplot.xlabel(r'$\\epsilon$ value')\n",
    "pyplot.ylabel('Number of Iterations ')\n",
    "pyplot.plot(eps, iterations)\n",
    "pyplot.show();"
   ]
  },
  {
   "cell_type": "markdown",
   "metadata": {},
   "source": [
    "Use the linearization above as a preconditioner to a Newton-Krylov method.  That is, use [`scipy.sparse.linalg.LinearOperator`](https://docs.scipy.org/doc/scipy-0.19.1/reference/generated/scipy.sparse.linalg.LinearOperator.html) to apply the Jacobian to a vector\n",
    "$$ \\tilde J(u) v = \\frac{F(u + h v) - F(u)}{h} . $$\n",
    "Then for each linear solve, use [`scipy.sparse.linalg.gmres`](https://docs.scipy.org/doc/scipy-0.19.1/reference/generated/scipy.sparse.linalg.gmres.html) and pass as a preconditioner, a direct solve with the Picard linearization above. (You might find [`scipy.sparse.linalg.factorized`](https://docs.scipy.org/doc/scipy-0.19.1/reference/generated/scipy.sparse.linalg.factorized.html#scipy.sparse.linalg.factorized) to be useful. Compare algebraic convergence to that of the Picard method. (choose h to be around $10^{-8}$)"
   ]
  },
  {
   "cell_type": "code",
   "execution_count": 18,
   "metadata": {
    "scrolled": false
   },
   "outputs": [
    {
     "name": "stdout",
     "output_type": "stream",
     "text": [
      "Newton 0 anorm 7.20e-01 rnorm 8.00e-02\n",
      "Newton 1 anorm 1.01e-02 rnorm 1.12e-03\n",
      "Newton 2 anorm 2.16e-06 rnorm 2.39e-07\n"
     ]
    }
   ],
   "source": [
    "import scipy.sparse.linalg as splinalg\n",
    "from scipy.sparse.linalg import factorized\n",
    "from numpy.linalg import norm as n\n",
    "\n",
    "def fsolve_newtonkrylov(F, J, u0, epsilon=1e-6, rtol=1e-10, maxit=100, verbose=False):\n",
    "    u = u0.copy()\n",
    "    #initial norm on residual\n",
    "    norm0 = numpy.linalg.norm(F)\n",
    "    for i in range(maxit):\n",
    "        def Ju_fd(v):\n",
    "            #print(n(v),v)\n",
    "            v = v.reshape(u.shape)\n",
    "            Fuv = picard2d_div(h, x, y, u + epsilon*v, \n",
    "                              lambda x,y: 0*x + 1, lambda x,y: 0*x, 3, 1, \n",
    "                               dirichlet=((0,-1),(0,-1)), J_solve=False)\n",
    "            #print(n(Fuv), n(Fuv - F), n(u), n(v))\n",
    "            return (Fuv - F) / epsilon\n",
    "        #this creates an operator ~ to J(u) based on the matvec function\n",
    "        Ju = splinalg.LinearOperator((len(F),len(F)), matvec=Ju_fd, dtype= u.dtype)\n",
    "        #solving for du s.t. J(u)*du = -F(u) (the negative is moved below for a slight increase in efficiency)\n",
    "        solve = factorized(J)\n",
    "        J_inv = splinalg.LinearOperator((len(F), len(F)), solve)\n",
    "        du, info = splinalg.gmres(Ju, -F, M=J_inv)\n",
    "        #print(n(Ju @ F))\n",
    "        if info != 0:\n",
    "            raise RuntimeError('GMRES failed to converge: {:d}'.format(info))\n",
    "        du = du.reshape(u.shape)\n",
    "        u += du\n",
    "        F = picard2d_div(h, x, y, u, lambda x,y: 0*x +1, lambda x,y: 0*x, 3, 1,\n",
    "                        dirichlet=((0,-1), (0,-1)), J_solve=False)\n",
    "        norm = numpy.linalg.norm(F)\n",
    "        if verbose:\n",
    "            print('Newton {:d} anorm {:6.2e} rnorm {:6.2e}'.format(i, norm, norm/norm0))\n",
    "        if norm < rtol * norm0:\n",
    "            break\n",
    "    return u, i\n",
    "\n",
    "h = .1\n",
    "x, y = hgrid(h)\n",
    "u = 0*x \n",
    "F, J = picard2d_div(h, x, y, u, lambda x,y: 0*x +1, lambda x,y: 0*x, 3, .1, dirichlet=((0,-1), (0,-1)))\n",
    "fsolve_newtonkrylov(F,J,u, rtol=1e-6, verbose=True);"
   ]
  },
  {
   "cell_type": "markdown",
   "metadata": {},
   "source": [
    "The convergence of this Newton-Krylov method is quadractic which is much faster than the picard solution which is linear."
   ]
  },
  {
   "cell_type": "markdown",
   "metadata": {},
   "source": [
    "* Can you directly implement a Newton linearization?  Either do it or explain what is involved.  How will its nonlinear convergence compare to that of the Newton-Krylov method?"
   ]
  },
  {
   "cell_type": "markdown",
   "metadata": {},
   "source": [
    "For a direct implementation of a Newton linearization, there would be more terms involved. Instead of having $$ J_{\\text{Picard}}(u) \\delta u \\sim -\\nabla\\cdot\\big( \\kappa(\\nabla u) \\nabla \\delta u \\big)  $$ we need to use $$ J = -\\nabla\\cdot (\\kappa(\\nabla u) \\nabla \\delta u + \\kappa'(\\nabla u)\\nabla u) $$"
   ]
  },
  {
   "cell_type": "markdown",
   "metadata": {},
   "source": [
    "To implement this we would need to calculate the gradient for the staggered points in both directions (like before) and then calculate the derivative of $\\kappa$ with respect to u. For the regularized p laplacian, this makes $$\\kappa'(\\nabla u) = \\frac{p-2}{2}\\big (\\frac{1}{2}\\varepsilon^2 + \\frac{1}{2}\\nabla u\\cdot\\nabla\\ u\\big )^{\\frac{p-4}{2}}\\nabla u\\cdot\\nabla$$ which makes the second term $$ \\frac{p-2}{2}\\big (\\frac{1}{2}\\varepsilon^2 + \\frac{1}{2}\\nabla u\\cdot\\nabla\\ u\\big )^{\\frac{p-4}{2}}\\nabla u\\cdot\\nabla^2 u $$"
   ]
  },
  {
   "cell_type": "markdown",
   "metadata": {},
   "source": [
    "Now we need to calculate second derivatives as well as first for u which will require either another stencil or a differencing method using the stencil from the picard solver. "
   ]
  },
  {
   "cell_type": "markdown",
   "metadata": {},
   "source": [
    "Compared to the Newton-Krylov method, this method should converge at a higher rate. The Newton-Krylov method is comparable to finite differencing techniques and is first order accurate based on the choice of $\\varepsilon$ while the Newton method is a higher order of accuracy (at least second order accurate like the divergence or nondivergence methods from FD2D)."
   ]
  },
  {
   "cell_type": "code",
   "execution_count": null,
   "metadata": {},
   "outputs": [],
   "source": []
  }
 ],
 "metadata": {
  "kernelspec": {
   "display_name": "Python 3",
   "language": "python",
   "name": "python3"
  },
  "language_info": {
   "codemirror_mode": {
    "name": "ipython",
    "version": 3
   },
   "file_extension": ".py",
   "mimetype": "text/x-python",
   "name": "python",
   "nbconvert_exporter": "python",
   "pygments_lexer": "ipython3",
   "version": "3.6.4"
  }
 },
 "nbformat": 4,
 "nbformat_minor": 2
}
